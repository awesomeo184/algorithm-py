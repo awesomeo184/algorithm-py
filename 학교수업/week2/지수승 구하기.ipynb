{
 "cells": [
  {
   "cell_type": "code",
   "execution_count": null,
   "metadata": {},
   "outputs": [],
   "source": [
    "def pow(a, k, n):\n",
    "    if k == 1:\n",
    "        return a % n\n",
    "    if k % 2 == 0:\n",
    "        tmp = pow(a, k / 2, n)\n",
    "        return (tmp * tmp) % n\n",
    "    if k % 2 != 0:\n",
    "        return (a * pow(a, k - 1, n)) % n\n",
    "\n",
    "m, e, d, n = map(int, input().split())\n",
    "\n",
    "C = pow(m, e, n)\n",
    "print(C)\n",
    "print(pow(C, d, n))"
   ]
  }
 ],
 "metadata": {
  "kernelspec": {
   "display_name": "Python 3",
   "language": "python",
   "name": "python3"
  },
  "language_info": {
   "codemirror_mode": {
    "name": "ipython",
    "version": 3
   },
   "file_extension": ".py",
   "mimetype": "text/x-python",
   "name": "python",
   "nbconvert_exporter": "python",
   "pygments_lexer": "ipython3",
   "version": "3.8.5"
  }
 },
 "nbformat": 4,
 "nbformat_minor": 4
}
