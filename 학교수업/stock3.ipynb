{
 "cells": [
  {
   "cell_type": "markdown",
   "metadata": {},
   "source": [
    "# 주식이 오른 최대 일수\n",
    "\n",
    "## 문제\n",
    "\n",
    "1-3) n일 동안의 주식 지수가 날짜 순서대로 주어져 있다. 연속하여 지수가 상승한 날 수의 최대값을 구하는 프로그램을 작성하시오. 예를 들어 15개의 주식 지수가 (26, 22, 10, 25, 27, 29, 45, 23, 24, 25, 40, 26, 37, 13, 24)라면 연속으로 지수가 상승한 날 수의 최대값은 4((10, 25, 27, 29, 45)의 길이 -1)이다.\n",
    "\n",
    "입력 형식\n",
    "첫째 줄에는 n이 주어진다. n은 2 이상 100,000 이하의 정수이다. 둘째 줄에는 주식 지수(양의 정수)가 날짜 순서대로 n개 주어진다.\n",
    "\n",
    "출력 형식\n",
    "연속하여 지수가 오른 날 수의 최대값을 첫 번째 줄에 출력한다. \n",
    "\n",
    "```\n",
    "입력과 출력의 예 1\n",
    "입력\n",
    "\n",
    "15\n",
    "26 22 10 25 27 29 45 23 24 25 40 26 37 13 24\n",
    "\n",
    "출력\n",
    "\n",
    "4\n",
    "\n",
    "```\n",
    "\n",
    "```\n",
    "입력과 출력의 예 2\n",
    "입력\n",
    "\n",
    "10 \n",
    "10 20 30 40 50 60 70 80 90 100\n",
    "\n",
    "출력\n",
    "\n",
    "9\n",
    "```\n",
    "\n",
    "```\n",
    "입력과 출력의 예 3\n",
    "입력\n",
    "\n",
    "10 \n",
    "100 90 80 70 60 50 40 30 20 10\n",
    "\n",
    "출력\n",
    "\n",
    "0\n",
    "```"
   ]
  },
  {
   "cell_type": "code",
   "execution_count": null,
   "metadata": {},
   "outputs": [],
   "source": [
    "n = int(input())\n",
    "prices = list(map(int, input().split()))\n",
    "\n",
    "max_count = 0\n",
    "count = 0\n",
    "\n",
    "for i in range(len(prices)-1):\n",
    "    # 주식 가격이 다음날 올랐다면 count를 올린다.\n",
    "    if prices[i] < prices[i+1]:\n",
    "        count += 1\n",
    "        # 카운트가 올라갈 때마다 최대값을 갱신한다.\n",
    "        max_count = max(max_count, count)\n",
    "    else:\n",
    "        # 주식 가격이 다음 날 내려간다면, count를 초기화 한다.\n",
    "        count = 0\n",
    "\n",
    "print(max_count)"
   ]
  }
 ],
 "metadata": {
  "kernelspec": {
   "display_name": "Python 3",
   "language": "python",
   "name": "python3"
  },
  "language_info": {
   "codemirror_mode": {
    "name": "ipython",
    "version": 3
   },
   "file_extension": ".py",
   "mimetype": "text/x-python",
   "name": "python",
   "nbconvert_exporter": "python",
   "pygments_lexer": "ipython3",
   "version": "3.8.5"
  }
 },
 "nbformat": 4,
 "nbformat_minor": 4
}
