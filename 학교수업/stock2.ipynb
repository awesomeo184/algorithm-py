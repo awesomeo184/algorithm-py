{
 "cells": [
  {
   "cell_type": "markdown",
   "metadata": {},
   "source": [
    "# 주식을 사고 팔기 좋은 시점 2\n",
    "\n",
    "재귀함수를 이용하는 방법\n",
    "\n",
    "## 문제\n",
    "\n",
    "1-3) 주식 투자를 즐기는 홍길동은 어떤 회사의 주식을 다음과 같은 패턴으로 매일 주식 거래를 한다: (1) 주식 한 주를 사든지, (2) 이미 샀던 주식 중 일부를 파든지, 혹은 (3) 매매를 하지 않는다.\n",
    "\n",
    "\n",
    "출력 형식\n",
    "얻을 수 있는 최대 이익을 첫 번째 줄에 출력한다.\n",
    "\n",
    "```\n",
    "입력과 출력의 예 1\n",
    "입력\n",
    "\n",
    "3 \n",
    "10 7 6\n",
    "\n",
    "출력\n",
    "\n",
    "0\n",
    "```\n",
    "\n",
    "```\n",
    "입력과 출력의 예 2\n",
    "입력\n",
    "\n",
    "5\n",
    "1 1 3 1 2\n",
    "\n",
    "출력\n",
    "\n",
    "5\n",
    "```"
   ]
  },
  {
   "cell_type": "code",
   "execution_count": 1,
   "metadata": {},
   "outputs": [
    {
     "name": "stdout",
     "output_type": "stream",
     "text": [
      "5\n",
      "1 1 3 1 2\n",
      "5\n"
     ]
    }
   ],
   "source": [
    "def get_max_index_and_value(array):\n",
    "    # 가장 높은 주식 가격과 그 인덱스를 반환한다.\n",
    "    max_price = max(array)\n",
    "    max_index = array.index(max_price)\n",
    "\n",
    "    return max_index, max_price\n",
    "\n",
    "\n",
    "def split_by_index(array, index):\n",
    "    # 가장 높은 가격을 기준으로 리스트를 좌, 우로 분리한다.\n",
    "\n",
    "    # 가장 높은 가격이 첫 날이나 마지막 날일 경우, 각각 좌, 우로 빈 리스트를 반환한다.\n",
    "    if index == 0:\n",
    "        return [], array[1:]\n",
    "    elif index == len(array) - 1:\n",
    "        return array[:-1], []\n",
    "\n",
    "    left = array[:index]\n",
    "    right = array[index + 1:]\n",
    "\n",
    "    return left, right\n",
    "\n",
    "\n",
    "def get_profit(array):\n",
    "    total = 0\n",
    "\n",
    "    # 더 이상 분리할 리스트가 없는 경우 0을 반환하여 재귀를 종료한다.\n",
    "    if not array:\n",
    "        return 0\n",
    "\n",
    "    # 최대 가격과 그 인덱스를 반환한다.\n",
    "    max_index, max_price = get_max_index_and_value(array)\n",
    "\n",
    "    # 최대 가격을 기준으로 리스트를 좌우로 분리한다.\n",
    "    left, right = split_by_index(array, max_index)\n",
    "\n",
    "    # 가장 높은 가격에 도달하기 전 날의 주식은 모두 구매한 후 최대 가격에 판다.\n",
    "    total += sum(map(lambda x: max_price - x, left))\n",
    "\n",
    "    # 가장 높은 가격에 도달 한 이후에는 다시 그날 이후부터 최대 가격을 찾아 앞의 과정을 반복한다.\n",
    "    total += get_profit(right)\n",
    "\n",
    "    return total\n",
    "\n",
    "\n",
    "n = int(input())\n",
    "prices = list(map(int, input().split()))\n",
    "\n",
    "print(get_profit(prices))\n"
   ]
  }
 ],
 "metadata": {
  "kernelspec": {
   "display_name": "Python 3",
   "language": "python",
   "name": "python3"
  },
  "language_info": {
   "codemirror_mode": {
    "name": "ipython",
    "version": 3
   },
   "file_extension": ".py",
   "mimetype": "text/x-python",
   "name": "python",
   "nbconvert_exporter": "python",
   "pygments_lexer": "ipython3",
   "version": "3.8.5"
  }
 },
 "nbformat": 4,
 "nbformat_minor": 4
}
